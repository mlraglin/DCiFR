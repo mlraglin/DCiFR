{
 "cells": [
  {
   "cell_type": "code",
   "execution_count": null,
   "metadata": {
    "collapsed": true,
    "scrolled": true
   },
   "outputs": [],
   "source": [
    "from deepface import DeepFace\n",
    "import glob\n",
    "import pandas as pd\n",
    "import numpy as np"
   ]
  },
  {
   "cell_type": "code",
   "execution_count": null,
   "metadata": {
    "collapsed": true
   },
   "outputs": [],
   "source": [
    "data = pd.read_csv(\"PATH\")"
   ]
  },
  {
   "cell_type": "code",
   "execution_count": null,
   "metadata": {
    "collapsed": true
   },
   "outputs": [],
   "source": [
    "pics = list(data['PersonId'].apply(lambda x: \"../Picture/ALL_1/\" + str(x) + \".png\"))"
   ]
  },
  {
   "cell_type": "code",
   "execution_count": null,
   "metadata": {},
   "outputs": [],
   "source": [
    "len(pics)"
   ]
  },
  {
   "cell_type": "code",
   "execution_count": null,
   "metadata": {
    "scrolled": true
   },
   "outputs": [],
   "source": [
    "result = DeepFace.analyze(pics, ['age', \"gender\", \"race\"], enforce_detection=False)"
   ]
  },
  {
   "cell_type": "markdown",
   "metadata": {},
   "source": [
    "## Not the most efficient way to clean and sort the results - room to improve"
   ]
  },
  {
   "cell_type": "code",
   "execution_count": null,
   "metadata": {
    "collapsed": true
   },
   "outputs": [],
   "source": [
    "age_ = []\n",
    "gender_ = []\n",
    "race_ = []\n",
    "asian_ = []\n",
    "black_ = []\n",
    "indian_ = []\n",
    "latino_hispanic_ = []\n",
    "middle_eastern_ = []\n",
    "white_ = []\n",
    "\n",
    "for results in result:\n",
    "    age = result[results]['age']\n",
    "    gender = result[results]['gender']\n",
    "    race = result[results]['dominant_race']\n",
    "    asian = result[results]['race']['asian']\n",
    "    black = result[results]['race']['black']\n",
    "    indian = result[results]['race']['indian']\n",
    "    latino_hispanic = result[results]['race']['latino hispanic']\n",
    "    middle_eastern = result[results]['race']['middle eastern']\n",
    "    white = result[results]['race']['white']\n",
    "    age_.append(age)\n",
    "    gender_.append(gender)\n",
    "    race_.append(race)\n",
    "    asian_.append(asian)\n",
    "    black_.append(black)\n",
    "    indian_.append(indian)\n",
    "    latino_hispanic_.append(indian)\n",
    "    middle_eastern_.append(middle_eastern)\n",
    "    white_.append(white)"
   ]
  },
  {
   "cell_type": "code",
   "execution_count": null,
   "metadata": {
    "collapsed": true
   },
   "outputs": [],
   "source": [
    "data = pd.DataFrame()\n",
    "_pic = pd.DataFrame(pics)\n",
    "_age = pd.DataFrame(age_)\n",
    "_gender = pd.DataFrame(gender_)\n",
    "_race = pd.DataFrame(race_)\n",
    "_white = pd.DataFrame(white_)\n",
    "_black = pd.DataFrame(black_)\n",
    "_latino_hispanic = pd.DataFrame(latino_hispanic_)\n",
    "_asian = pd.DataFrame(asian_)\n",
    "_indian = pd.DataFrame(indian_)\n",
    "_middle_eastern = pd.DataFrame(middle_eastern_)"
   ]
  },
  {
   "cell_type": "code",
   "execution_count": null,
   "metadata": {
    "collapsed": true
   },
   "outputs": [],
   "source": [
    "data = pd.concat([_pic, _age, _gender, _race, _white, _black, _latino_hispanic, _asian, _indian, _middle_eastern], axis=1)"
   ]
  },
  {
   "cell_type": "code",
   "execution_count": null,
   "metadata": {
    "collapsed": true
   },
   "outputs": [],
   "source": [
    "data.columns = ['Source', 'Age', \"Gender\", \"Race\", \"White\", \"Black\", \"Latino/Hispanic\", \"Asian\", \"Indian\", \"MiddleEastern\"]"
   ]
  },
  {
   "cell_type": "code",
   "execution_count": null,
   "metadata": {},
   "outputs": [],
   "source": [
    "data"
   ]
  },
  {
   "cell_type": "code",
   "execution_count": null,
   "metadata": {
    "collapsed": true
   },
   "outputs": [],
   "source": [
    "data['id'] = data['Source'].apply(lambda x: str(x).split('/')[-1].split(\".\")[0])"
   ]
  },
  {
   "cell_type": "code",
   "execution_count": null,
   "metadata": {
    "scrolled": true
   },
   "outputs": [],
   "source": [
    "data"
   ]
  },
  {
   "cell_type": "markdown",
   "metadata": {},
   "source": [
    "## Raw Output"
   ]
  },
  {
   "cell_type": "code",
   "execution_count": null,
   "metadata": {
    "collapsed": true
   },
   "outputs": [],
   "source": [
    "data.to_csv(\"Deepface_RAW_ALL_1.csv\", index=False)"
   ]
  },
  {
   "cell_type": "code",
   "execution_count": null,
   "metadata": {},
   "outputs": [],
   "source": [
    "data['Race'].value_counts()"
   ]
  },
  {
   "cell_type": "code",
   "execution_count": null,
   "metadata": {
    "collapsed": true
   },
   "outputs": [],
   "source": [
    "df1 = data[(data['Race']=='white') & (data['White']>50)]\n",
    "df2 = data[(data['Race']=='black') & (data['Black']>50)]\n",
    "df3 = data[(data['Race']=='asian') & (data['Asian']>50)]\n",
    "df4 = data[(data['Race']=='middle eastern') & (data['MiddleEastern']>50)]\n",
    "df5 = data[(data['Race']=='latino hispanic') & (data['Latino/Hispanic']>50)]\n",
    "df6 = data[(data['Race']=='indian') & (data['Indian']>50)]"
   ]
  },
  {
   "cell_type": "code",
   "execution_count": null,
   "metadata": {
    "collapsed": true
   },
   "outputs": [],
   "source": [
    "dfs = pd.concat([df1,df2,df3,df4,df5,df6])"
   ]
  },
  {
   "cell_type": "code",
   "execution_count": null,
   "metadata": {
    "collapsed": true
   },
   "outputs": [],
   "source": [
    "dfs = dfs[['id', 'Age', 'Gender', 'Race']]"
   ]
  },
  {
   "cell_type": "code",
   "execution_count": null,
   "metadata": {},
   "outputs": [],
   "source": [
    "len(dfs)"
   ]
  },
  {
   "cell_type": "code",
   "execution_count": null,
   "metadata": {
    "collapsed": true
   },
   "outputs": [],
   "source": [
    "dfs['id']= dfs['id'].astype('int64')"
   ]
  },
  {
   "cell_type": "code",
   "execution_count": null,
   "metadata": {
    "collapsed": true
   },
   "outputs": [],
   "source": [
    "face = pd.read_csv(\"Run_deepface_All_1.csv\")"
   ]
  },
  {
   "cell_type": "code",
   "execution_count": null,
   "metadata": {
    "collapsed": true
   },
   "outputs": [],
   "source": [
    "final = face.merge(dfs, left_on='PersonId', right_on = 'id')"
   ]
  },
  {
   "cell_type": "code",
   "execution_count": null,
   "metadata": {},
   "outputs": [],
   "source": [
    "final"
   ]
  },
  {
   "cell_type": "markdown",
   "metadata": {},
   "source": [
    "## Output after considering the threshold (50%)"
   ]
  },
  {
   "cell_type": "code",
   "execution_count": null,
   "metadata": {
    "collapsed": true
   },
   "outputs": [],
   "source": [
    "final.to_csv(\"ALL_1_picResults.csv\", index=False)"
   ]
  }
 ],
 "metadata": {
  "kernelspec": {
   "display_name": "Python 3",
   "language": "python",
   "name": "python3"
  },
  "language_info": {
   "codemirror_mode": {
    "name": "ipython",
    "version": 3
   },
   "file_extension": ".py",
   "mimetype": "text/x-python",
   "name": "python",
   "nbconvert_exporter": "python",
   "pygments_lexer": "ipython3",
   "version": "3.6.10"
  }
 },
 "nbformat": 4,
 "nbformat_minor": 4
}
