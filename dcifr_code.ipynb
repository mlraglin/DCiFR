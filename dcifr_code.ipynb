{
 "cells": [
  {
   "cell_type": "code",
   "execution_count": 1,
   "metadata": {},
   "outputs": [],
   "source": [
    "from PyQt5.QtCore import *\n",
    "from PyQt5.QtGui import *\n",
    "from PyQt5.QtWidgets import *\n",
    "from PyQt5 import *\n",
    "import sys"
   ]
  },
  {
   "cell_type": "code",
   "execution_count": 2,
   "metadata": {},
   "outputs": [
    {
     "data": {
      "text/plain": [
       "0"
      ]
     },
     "execution_count": 2,
     "metadata": {},
     "output_type": "execute_result"
    }
   ],
   "source": [
    "class Window(QMainWindow):\n",
    "    def __init__(self):\n",
    "        super().__init__()\n",
    "        self.setWindowTitle('DCiFR')\n",
    "        self.setGeometry(0, 0, 600, 400)\n",
    "        \n",
    "        #Page title/main label\n",
    "        self.title_label = QLabel('Welcome to DCiFR!', self)\n",
    "        self.title_label.move(100, 50)\n",
    "        self.title_label.setFont(QFont('Arial', 20))\n",
    "        self.title_label.adjustSize()\n",
    "        \n",
    "        #hover info \n",
    "        info = QLabel('Check the box that applies. Hover for more info!', self)\n",
    "        info.move(50, 125)\n",
    "        info.setFont(QFont('Arial', 10))\n",
    "        info.adjustSize()\n",
    "        myFont=QtGui.QFont()\n",
    "        myFont.setItalic(True)\n",
    "        info.setFont(myFont)\n",
    "        info.adjustSize()\n",
    "        \n",
    "        #Check boxes\n",
    "        single_cb = QCheckBox('Single Image', self)\n",
    "        single_cb.move(50, 150)\n",
    "        batch_cb = QCheckBox('Batch Mode', self)\n",
    "        batch_cb.move(50, 200)\n",
    "        single_cb.adjustSize()\n",
    "        batch_cb.adjustSize()\n",
    "        \n",
    "        #Hovers\n",
    "        single_cb.setToolTip('Check this box if you would like to analyze demograhpics for a single image')\n",
    "        batch_cb.setToolTip('Check this box if you would like to analyze demograhpics for more than one image')\n",
    "        \n",
    "        #next button\n",
    "        next_button = QPushButton('Next', self)\n",
    "        next_button.setToolTip('Click this button after you have made your selection')\n",
    "        next_button.move(450, 350)\n",
    "\n",
    "app = QApplication(sys.argv)\n",
    "window = Window()\n",
    "window.show() \n",
    "app.exec_()"
   ]
  }
 ],
 "metadata": {
  "kernelspec": {
   "display_name": "Python 3",
   "language": "python",
   "name": "python3"
  },
  "language_info": {
   "codemirror_mode": {
    "name": "ipython",
    "version": 3
   },
   "file_extension": ".py",
   "mimetype": "text/x-python",
   "name": "python",
   "nbconvert_exporter": "python",
   "pygments_lexer": "ipython3",
   "version": "3.7.6"
  }
 },
 "nbformat": 4,
 "nbformat_minor": 4
}
